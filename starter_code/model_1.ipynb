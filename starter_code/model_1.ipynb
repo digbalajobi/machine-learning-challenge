{
 "cells": [
  {
   "cell_type": "code",
   "execution_count": 6,
   "metadata": {},
   "outputs": [
    {
     "name": "stdout",
     "output_type": "stream",
     "text": [
      "Requirement already up-to-date: sklearn in c:\\users\\owner\\anaconda3\\envs\\pythondata\\lib\\site-packages (0.0)\n",
      "Requirement already satisfied, skipping upgrade: scikit-learn in c:\\users\\owner\\anaconda3\\envs\\pythondata\\lib\\site-packages (from sklearn) (0.22.1)\n",
      "Requirement already satisfied, skipping upgrade: joblib>=0.11 in c:\\users\\owner\\anaconda3\\envs\\pythondata\\lib\\site-packages (from scikit-learn->sklearn) (0.14.1)\n",
      "Requirement already satisfied, skipping upgrade: scipy>=0.17.0 in c:\\users\\owner\\anaconda3\\envs\\pythondata\\lib\\site-packages (from scikit-learn->sklearn) (1.4.1)\n",
      "Requirement already satisfied, skipping upgrade: numpy>=1.11.0 in c:\\users\\owner\\anaconda3\\envs\\pythondata\\lib\\site-packages (from scikit-learn->sklearn) (1.18.1)\n"
     ]
    }
   ],
   "source": [
    "# Update sklearn to prevent version mismatches\n",
    "!pip install sklearn --upgrade"
   ]
  },
  {
   "cell_type": "code",
   "execution_count": 7,
   "metadata": {},
   "outputs": [
    {
     "name": "stdout",
     "output_type": "stream",
     "text": [
      "Requirement already satisfied: joblib in c:\\users\\owner\\anaconda3\\envs\\pythondata\\lib\\site-packages (0.14.1)\n"
     ]
    }
   ],
   "source": [
    "# install joblib. This will be used to save your model. \n",
    "# Restart your kernel after installing \n",
    "!pip install joblib"
   ]
  },
  {
   "cell_type": "code",
   "execution_count": 51,
   "metadata": {},
   "outputs": [],
   "source": [
    "import pandas as pd\n",
    "import matplotlib.pyplot as plt\n",
    "import numpy as np\n",
    "import os"
   ]
  },
  {
   "cell_type": "markdown",
   "metadata": {},
   "source": [
    "# Read the CSV and Perform Basic Data Cleaning"
   ]
  },
  {
   "cell_type": "code",
   "execution_count": 9,
   "metadata": {},
   "outputs": [
    {
     "data": {
      "text/html": [
       "<div>\n",
       "<style scoped>\n",
       "    .dataframe tbody tr th:only-of-type {\n",
       "        vertical-align: middle;\n",
       "    }\n",
       "\n",
       "    .dataframe tbody tr th {\n",
       "        vertical-align: top;\n",
       "    }\n",
       "\n",
       "    .dataframe thead th {\n",
       "        text-align: right;\n",
       "    }\n",
       "</style>\n",
       "<table border=\"1\" class=\"dataframe\">\n",
       "  <thead>\n",
       "    <tr style=\"text-align: right;\">\n",
       "      <th></th>\n",
       "      <th>koi_disposition</th>\n",
       "      <th>koi_fpflag_nt</th>\n",
       "      <th>koi_fpflag_ss</th>\n",
       "      <th>koi_fpflag_co</th>\n",
       "      <th>koi_fpflag_ec</th>\n",
       "      <th>koi_period</th>\n",
       "      <th>koi_period_err1</th>\n",
       "      <th>koi_period_err2</th>\n",
       "      <th>koi_time0bk</th>\n",
       "      <th>koi_time0bk_err1</th>\n",
       "      <th>...</th>\n",
       "      <th>koi_steff_err2</th>\n",
       "      <th>koi_slogg</th>\n",
       "      <th>koi_slogg_err1</th>\n",
       "      <th>koi_slogg_err2</th>\n",
       "      <th>koi_srad</th>\n",
       "      <th>koi_srad_err1</th>\n",
       "      <th>koi_srad_err2</th>\n",
       "      <th>ra</th>\n",
       "      <th>dec</th>\n",
       "      <th>koi_kepmag</th>\n",
       "    </tr>\n",
       "  </thead>\n",
       "  <tbody>\n",
       "    <tr>\n",
       "      <th>0</th>\n",
       "      <td>CONFIRMED</td>\n",
       "      <td>0</td>\n",
       "      <td>0</td>\n",
       "      <td>0</td>\n",
       "      <td>0</td>\n",
       "      <td>54.418383</td>\n",
       "      <td>2.479000e-04</td>\n",
       "      <td>-2.479000e-04</td>\n",
       "      <td>162.513840</td>\n",
       "      <td>0.003520</td>\n",
       "      <td>...</td>\n",
       "      <td>-81</td>\n",
       "      <td>4.467</td>\n",
       "      <td>0.064</td>\n",
       "      <td>-0.096</td>\n",
       "      <td>0.927</td>\n",
       "      <td>0.105</td>\n",
       "      <td>-0.061</td>\n",
       "      <td>291.93423</td>\n",
       "      <td>48.141651</td>\n",
       "      <td>15.347</td>\n",
       "    </tr>\n",
       "    <tr>\n",
       "      <th>1</th>\n",
       "      <td>FALSE POSITIVE</td>\n",
       "      <td>0</td>\n",
       "      <td>1</td>\n",
       "      <td>0</td>\n",
       "      <td>0</td>\n",
       "      <td>19.899140</td>\n",
       "      <td>1.490000e-05</td>\n",
       "      <td>-1.490000e-05</td>\n",
       "      <td>175.850252</td>\n",
       "      <td>0.000581</td>\n",
       "      <td>...</td>\n",
       "      <td>-176</td>\n",
       "      <td>4.544</td>\n",
       "      <td>0.044</td>\n",
       "      <td>-0.176</td>\n",
       "      <td>0.868</td>\n",
       "      <td>0.233</td>\n",
       "      <td>-0.078</td>\n",
       "      <td>297.00482</td>\n",
       "      <td>48.134129</td>\n",
       "      <td>15.436</td>\n",
       "    </tr>\n",
       "    <tr>\n",
       "      <th>2</th>\n",
       "      <td>FALSE POSITIVE</td>\n",
       "      <td>0</td>\n",
       "      <td>1</td>\n",
       "      <td>0</td>\n",
       "      <td>0</td>\n",
       "      <td>1.736952</td>\n",
       "      <td>2.630000e-07</td>\n",
       "      <td>-2.630000e-07</td>\n",
       "      <td>170.307565</td>\n",
       "      <td>0.000115</td>\n",
       "      <td>...</td>\n",
       "      <td>-174</td>\n",
       "      <td>4.564</td>\n",
       "      <td>0.053</td>\n",
       "      <td>-0.168</td>\n",
       "      <td>0.791</td>\n",
       "      <td>0.201</td>\n",
       "      <td>-0.067</td>\n",
       "      <td>285.53461</td>\n",
       "      <td>48.285210</td>\n",
       "      <td>15.597</td>\n",
       "    </tr>\n",
       "    <tr>\n",
       "      <th>3</th>\n",
       "      <td>CONFIRMED</td>\n",
       "      <td>0</td>\n",
       "      <td>0</td>\n",
       "      <td>0</td>\n",
       "      <td>0</td>\n",
       "      <td>2.525592</td>\n",
       "      <td>3.760000e-06</td>\n",
       "      <td>-3.760000e-06</td>\n",
       "      <td>171.595550</td>\n",
       "      <td>0.001130</td>\n",
       "      <td>...</td>\n",
       "      <td>-211</td>\n",
       "      <td>4.438</td>\n",
       "      <td>0.070</td>\n",
       "      <td>-0.210</td>\n",
       "      <td>1.046</td>\n",
       "      <td>0.334</td>\n",
       "      <td>-0.133</td>\n",
       "      <td>288.75488</td>\n",
       "      <td>48.226200</td>\n",
       "      <td>15.509</td>\n",
       "    </tr>\n",
       "    <tr>\n",
       "      <th>4</th>\n",
       "      <td>CONFIRMED</td>\n",
       "      <td>0</td>\n",
       "      <td>0</td>\n",
       "      <td>0</td>\n",
       "      <td>0</td>\n",
       "      <td>4.134435</td>\n",
       "      <td>1.050000e-05</td>\n",
       "      <td>-1.050000e-05</td>\n",
       "      <td>172.979370</td>\n",
       "      <td>0.001900</td>\n",
       "      <td>...</td>\n",
       "      <td>-232</td>\n",
       "      <td>4.486</td>\n",
       "      <td>0.054</td>\n",
       "      <td>-0.229</td>\n",
       "      <td>0.972</td>\n",
       "      <td>0.315</td>\n",
       "      <td>-0.105</td>\n",
       "      <td>296.28613</td>\n",
       "      <td>48.224670</td>\n",
       "      <td>15.714</td>\n",
       "    </tr>\n",
       "  </tbody>\n",
       "</table>\n",
       "<p>5 rows × 41 columns</p>\n",
       "</div>"
      ],
      "text/plain": [
       "  koi_disposition  koi_fpflag_nt  koi_fpflag_ss  koi_fpflag_co  koi_fpflag_ec  \\\n",
       "0       CONFIRMED              0              0              0              0   \n",
       "1  FALSE POSITIVE              0              1              0              0   \n",
       "2  FALSE POSITIVE              0              1              0              0   \n",
       "3       CONFIRMED              0              0              0              0   \n",
       "4       CONFIRMED              0              0              0              0   \n",
       "\n",
       "   koi_period  koi_period_err1  koi_period_err2  koi_time0bk  \\\n",
       "0   54.418383     2.479000e-04    -2.479000e-04   162.513840   \n",
       "1   19.899140     1.490000e-05    -1.490000e-05   175.850252   \n",
       "2    1.736952     2.630000e-07    -2.630000e-07   170.307565   \n",
       "3    2.525592     3.760000e-06    -3.760000e-06   171.595550   \n",
       "4    4.134435     1.050000e-05    -1.050000e-05   172.979370   \n",
       "\n",
       "   koi_time0bk_err1  ...  koi_steff_err2  koi_slogg  koi_slogg_err1  \\\n",
       "0          0.003520  ...             -81      4.467           0.064   \n",
       "1          0.000581  ...            -176      4.544           0.044   \n",
       "2          0.000115  ...            -174      4.564           0.053   \n",
       "3          0.001130  ...            -211      4.438           0.070   \n",
       "4          0.001900  ...            -232      4.486           0.054   \n",
       "\n",
       "   koi_slogg_err2  koi_srad  koi_srad_err1  koi_srad_err2         ra  \\\n",
       "0          -0.096     0.927          0.105         -0.061  291.93423   \n",
       "1          -0.176     0.868          0.233         -0.078  297.00482   \n",
       "2          -0.168     0.791          0.201         -0.067  285.53461   \n",
       "3          -0.210     1.046          0.334         -0.133  288.75488   \n",
       "4          -0.229     0.972          0.315         -0.105  296.28613   \n",
       "\n",
       "         dec  koi_kepmag  \n",
       "0  48.141651      15.347  \n",
       "1  48.134129      15.436  \n",
       "2  48.285210      15.597  \n",
       "3  48.226200      15.509  \n",
       "4  48.224670      15.714  \n",
       "\n",
       "[5 rows x 41 columns]"
      ]
     },
     "execution_count": 9,
     "metadata": {},
     "output_type": "execute_result"
    }
   ],
   "source": [
    "df = pd.read_csv(\"exoplanet_data.csv\")\n",
    "# Drop the null columns where all values are null\n",
    "df = df.dropna(axis='columns', how='all')\n",
    "# Drop the null rows\n",
    "df = df.dropna()\n",
    "df.head()"
   ]
  },
  {
   "cell_type": "code",
   "execution_count": null,
   "metadata": {},
   "outputs": [],
   "source": []
  },
  {
   "cell_type": "markdown",
   "metadata": {},
   "source": [
    "# Select your features (columns)"
   ]
  },
  {
   "cell_type": "code",
   "execution_count": 10,
   "metadata": {},
   "outputs": [],
   "source": [
    "# Set features. This will also be used as your x values.\n",
    "selected_features = df[[\"koi_disposition\",\"koi_impact\",\"koi_time0bk\",\"koi_period\",\"koi_slogg\",\"koi_depth\",\"koi_prad\",\"koi_insol\",\"koi_model_snr\",\"koi_tce_plnt_num\",\"koi_steff\"]]"
   ]
  },
  {
   "cell_type": "code",
   "execution_count": 11,
   "metadata": {},
   "outputs": [],
   "source": [
    "\n",
    "conf_cand = selected_features[(selected_features['koi_disposition']=='CONFIRMED') | (selected_features['koi_disposition']=='CANDIDATE')]\n",
    "conf_cand.reset_index(drop=True, inplace=True)"
   ]
  },
  {
   "cell_type": "code",
   "execution_count": 12,
   "metadata": {},
   "outputs": [
    {
     "data": {
      "text/html": [
       "<div>\n",
       "<style scoped>\n",
       "    .dataframe tbody tr th:only-of-type {\n",
       "        vertical-align: middle;\n",
       "    }\n",
       "\n",
       "    .dataframe tbody tr th {\n",
       "        vertical-align: top;\n",
       "    }\n",
       "\n",
       "    .dataframe thead th {\n",
       "        text-align: right;\n",
       "    }\n",
       "</style>\n",
       "<table border=\"1\" class=\"dataframe\">\n",
       "  <thead>\n",
       "    <tr style=\"text-align: right;\">\n",
       "      <th></th>\n",
       "      <th>koi_disposition</th>\n",
       "      <th>koi_impact</th>\n",
       "      <th>koi_time0bk</th>\n",
       "      <th>koi_period</th>\n",
       "      <th>koi_slogg</th>\n",
       "      <th>koi_depth</th>\n",
       "      <th>koi_prad</th>\n",
       "      <th>koi_insol</th>\n",
       "      <th>koi_model_snr</th>\n",
       "      <th>koi_tce_plnt_num</th>\n",
       "      <th>koi_steff</th>\n",
       "    </tr>\n",
       "  </thead>\n",
       "  <tbody>\n",
       "    <tr>\n",
       "      <th>0</th>\n",
       "      <td>CONFIRMED</td>\n",
       "      <td>0.586</td>\n",
       "      <td>162.513840</td>\n",
       "      <td>54.418383</td>\n",
       "      <td>4.467</td>\n",
       "      <td>874.8</td>\n",
       "      <td>2.83</td>\n",
       "      <td>9.11</td>\n",
       "      <td>25.8</td>\n",
       "      <td>2</td>\n",
       "      <td>5455</td>\n",
       "    </tr>\n",
       "    <tr>\n",
       "      <th>1</th>\n",
       "      <td>CONFIRMED</td>\n",
       "      <td>0.701</td>\n",
       "      <td>171.595550</td>\n",
       "      <td>2.525592</td>\n",
       "      <td>4.438</td>\n",
       "      <td>603.3</td>\n",
       "      <td>2.75</td>\n",
       "      <td>926.16</td>\n",
       "      <td>40.9</td>\n",
       "      <td>1</td>\n",
       "      <td>6031</td>\n",
       "    </tr>\n",
       "    <tr>\n",
       "      <th>2</th>\n",
       "      <td>CONFIRMED</td>\n",
       "      <td>0.762</td>\n",
       "      <td>172.979370</td>\n",
       "      <td>4.134435</td>\n",
       "      <td>4.486</td>\n",
       "      <td>686.0</td>\n",
       "      <td>2.77</td>\n",
       "      <td>427.65</td>\n",
       "      <td>40.2</td>\n",
       "      <td>2</td>\n",
       "      <td>6046</td>\n",
       "    </tr>\n",
       "    <tr>\n",
       "      <th>3</th>\n",
       "      <td>CONFIRMED</td>\n",
       "      <td>0.755</td>\n",
       "      <td>179.554370</td>\n",
       "      <td>2.566589</td>\n",
       "      <td>4.486</td>\n",
       "      <td>226.5</td>\n",
       "      <td>1.59</td>\n",
       "      <td>807.74</td>\n",
       "      <td>15.0</td>\n",
       "      <td>3</td>\n",
       "      <td>6046</td>\n",
       "    </tr>\n",
       "    <tr>\n",
       "      <th>4</th>\n",
       "      <td>CONFIRMED</td>\n",
       "      <td>0.052</td>\n",
       "      <td>173.621937</td>\n",
       "      <td>16.068647</td>\n",
       "      <td>4.485</td>\n",
       "      <td>4914.3</td>\n",
       "      <td>5.76</td>\n",
       "      <td>30.75</td>\n",
       "      <td>161.9</td>\n",
       "      <td>1</td>\n",
       "      <td>5031</td>\n",
       "    </tr>\n",
       "    <tr>\n",
       "      <th>...</th>\n",
       "      <td>...</td>\n",
       "      <td>...</td>\n",
       "      <td>...</td>\n",
       "      <td>...</td>\n",
       "      <td>...</td>\n",
       "      <td>...</td>\n",
       "      <td>...</td>\n",
       "      <td>...</td>\n",
       "      <td>...</td>\n",
       "      <td>...</td>\n",
       "      <td>...</td>\n",
       "    </tr>\n",
       "    <tr>\n",
       "      <th>3482</th>\n",
       "      <td>CANDIDATE</td>\n",
       "      <td>0.218</td>\n",
       "      <td>131.787600</td>\n",
       "      <td>4.736816</td>\n",
       "      <td>4.456</td>\n",
       "      <td>35.3</td>\n",
       "      <td>0.60</td>\n",
       "      <td>395.05</td>\n",
       "      <td>6.9</td>\n",
       "      <td>1</td>\n",
       "      <td>6088</td>\n",
       "    </tr>\n",
       "    <tr>\n",
       "      <th>3483</th>\n",
       "      <td>CANDIDATE</td>\n",
       "      <td>0.075</td>\n",
       "      <td>218.271900</td>\n",
       "      <td>130.235324</td>\n",
       "      <td>4.529</td>\n",
       "      <td>750.1</td>\n",
       "      <td>2.44</td>\n",
       "      <td>2.86</td>\n",
       "      <td>9.7</td>\n",
       "      <td>1</td>\n",
       "      <td>5616</td>\n",
       "    </tr>\n",
       "    <tr>\n",
       "      <th>3484</th>\n",
       "      <td>CANDIDATE</td>\n",
       "      <td>1.206</td>\n",
       "      <td>137.481093</td>\n",
       "      <td>8.870416</td>\n",
       "      <td>4.027</td>\n",
       "      <td>873.1</td>\n",
       "      <td>39.46</td>\n",
       "      <td>414.26</td>\n",
       "      <td>43.8</td>\n",
       "      <td>1</td>\n",
       "      <td>6022</td>\n",
       "    </tr>\n",
       "    <tr>\n",
       "      <th>3485</th>\n",
       "      <td>CANDIDATE</td>\n",
       "      <td>1.230</td>\n",
       "      <td>144.131720</td>\n",
       "      <td>47.109631</td>\n",
       "      <td>3.597</td>\n",
       "      <td>752.2</td>\n",
       "      <td>78.98</td>\n",
       "      <td>75.40</td>\n",
       "      <td>35.1</td>\n",
       "      <td>1</td>\n",
       "      <td>5258</td>\n",
       "    </tr>\n",
       "    <tr>\n",
       "      <th>3486</th>\n",
       "      <td>CANDIDATE</td>\n",
       "      <td>0.043</td>\n",
       "      <td>133.001270</td>\n",
       "      <td>1.739849</td>\n",
       "      <td>4.444</td>\n",
       "      <td>48.5</td>\n",
       "      <td>0.72</td>\n",
       "      <td>1585.81</td>\n",
       "      <td>10.6</td>\n",
       "      <td>1</td>\n",
       "      <td>6119</td>\n",
       "    </tr>\n",
       "  </tbody>\n",
       "</table>\n",
       "<p>3487 rows × 11 columns</p>\n",
       "</div>"
      ],
      "text/plain": [
       "     koi_disposition  koi_impact  koi_time0bk  koi_period  koi_slogg  \\\n",
       "0          CONFIRMED       0.586   162.513840   54.418383      4.467   \n",
       "1          CONFIRMED       0.701   171.595550    2.525592      4.438   \n",
       "2          CONFIRMED       0.762   172.979370    4.134435      4.486   \n",
       "3          CONFIRMED       0.755   179.554370    2.566589      4.486   \n",
       "4          CONFIRMED       0.052   173.621937   16.068647      4.485   \n",
       "...              ...         ...          ...         ...        ...   \n",
       "3482       CANDIDATE       0.218   131.787600    4.736816      4.456   \n",
       "3483       CANDIDATE       0.075   218.271900  130.235324      4.529   \n",
       "3484       CANDIDATE       1.206   137.481093    8.870416      4.027   \n",
       "3485       CANDIDATE       1.230   144.131720   47.109631      3.597   \n",
       "3486       CANDIDATE       0.043   133.001270    1.739849      4.444   \n",
       "\n",
       "      koi_depth  koi_prad  koi_insol  koi_model_snr  koi_tce_plnt_num  \\\n",
       "0         874.8      2.83       9.11           25.8                 2   \n",
       "1         603.3      2.75     926.16           40.9                 1   \n",
       "2         686.0      2.77     427.65           40.2                 2   \n",
       "3         226.5      1.59     807.74           15.0                 3   \n",
       "4        4914.3      5.76      30.75          161.9                 1   \n",
       "...         ...       ...        ...            ...               ...   \n",
       "3482       35.3      0.60     395.05            6.9                 1   \n",
       "3483      750.1      2.44       2.86            9.7                 1   \n",
       "3484      873.1     39.46     414.26           43.8                 1   \n",
       "3485      752.2     78.98      75.40           35.1                 1   \n",
       "3486       48.5      0.72    1585.81           10.6                 1   \n",
       "\n",
       "      koi_steff  \n",
       "0          5455  \n",
       "1          6031  \n",
       "2          6046  \n",
       "3          6046  \n",
       "4          5031  \n",
       "...         ...  \n",
       "3482       6088  \n",
       "3483       5616  \n",
       "3484       6022  \n",
       "3485       5258  \n",
       "3486       6119  \n",
       "\n",
       "[3487 rows x 11 columns]"
      ]
     },
     "execution_count": 12,
     "metadata": {},
     "output_type": "execute_result"
    }
   ],
   "source": [
    "conf_cand"
   ]
  },
  {
   "cell_type": "code",
   "execution_count": 13,
   "metadata": {},
   "outputs": [],
   "source": [
    "SF_balanced = selected_features.append(conf_cand)"
   ]
  },
  {
   "cell_type": "code",
   "execution_count": 14,
   "metadata": {},
   "outputs": [
    {
     "data": {
      "text/html": [
       "<div>\n",
       "<style scoped>\n",
       "    .dataframe tbody tr th:only-of-type {\n",
       "        vertical-align: middle;\n",
       "    }\n",
       "\n",
       "    .dataframe tbody tr th {\n",
       "        vertical-align: top;\n",
       "    }\n",
       "\n",
       "    .dataframe thead th {\n",
       "        text-align: right;\n",
       "    }\n",
       "</style>\n",
       "<table border=\"1\" class=\"dataframe\">\n",
       "  <thead>\n",
       "    <tr style=\"text-align: right;\">\n",
       "      <th></th>\n",
       "      <th>koi_disposition</th>\n",
       "      <th>koi_impact</th>\n",
       "      <th>koi_time0bk</th>\n",
       "      <th>koi_period</th>\n",
       "      <th>koi_slogg</th>\n",
       "      <th>koi_depth</th>\n",
       "      <th>koi_prad</th>\n",
       "      <th>koi_insol</th>\n",
       "      <th>koi_model_snr</th>\n",
       "      <th>koi_tce_plnt_num</th>\n",
       "      <th>koi_steff</th>\n",
       "    </tr>\n",
       "  </thead>\n",
       "  <tbody>\n",
       "    <tr>\n",
       "      <th>0</th>\n",
       "      <td>CONFIRMED</td>\n",
       "      <td>0.586</td>\n",
       "      <td>162.513840</td>\n",
       "      <td>54.418383</td>\n",
       "      <td>4.467</td>\n",
       "      <td>874.8</td>\n",
       "      <td>2.83</td>\n",
       "      <td>9.11</td>\n",
       "      <td>25.8</td>\n",
       "      <td>2</td>\n",
       "      <td>5455</td>\n",
       "    </tr>\n",
       "    <tr>\n",
       "      <th>1</th>\n",
       "      <td>FALSE POSITIVE</td>\n",
       "      <td>0.969</td>\n",
       "      <td>175.850252</td>\n",
       "      <td>19.899140</td>\n",
       "      <td>4.544</td>\n",
       "      <td>10829.0</td>\n",
       "      <td>14.60</td>\n",
       "      <td>39.30</td>\n",
       "      <td>76.3</td>\n",
       "      <td>1</td>\n",
       "      <td>5853</td>\n",
       "    </tr>\n",
       "    <tr>\n",
       "      <th>2</th>\n",
       "      <td>FALSE POSITIVE</td>\n",
       "      <td>1.276</td>\n",
       "      <td>170.307565</td>\n",
       "      <td>1.736952</td>\n",
       "      <td>4.564</td>\n",
       "      <td>8079.2</td>\n",
       "      <td>33.46</td>\n",
       "      <td>891.96</td>\n",
       "      <td>505.6</td>\n",
       "      <td>1</td>\n",
       "      <td>5805</td>\n",
       "    </tr>\n",
       "    <tr>\n",
       "      <th>3</th>\n",
       "      <td>CONFIRMED</td>\n",
       "      <td>0.701</td>\n",
       "      <td>171.595550</td>\n",
       "      <td>2.525592</td>\n",
       "      <td>4.438</td>\n",
       "      <td>603.3</td>\n",
       "      <td>2.75</td>\n",
       "      <td>926.16</td>\n",
       "      <td>40.9</td>\n",
       "      <td>1</td>\n",
       "      <td>6031</td>\n",
       "    </tr>\n",
       "    <tr>\n",
       "      <th>4</th>\n",
       "      <td>CONFIRMED</td>\n",
       "      <td>0.762</td>\n",
       "      <td>172.979370</td>\n",
       "      <td>4.134435</td>\n",
       "      <td>4.486</td>\n",
       "      <td>686.0</td>\n",
       "      <td>2.77</td>\n",
       "      <td>427.65</td>\n",
       "      <td>40.2</td>\n",
       "      <td>2</td>\n",
       "      <td>6046</td>\n",
       "    </tr>\n",
       "    <tr>\n",
       "      <th>...</th>\n",
       "      <td>...</td>\n",
       "      <td>...</td>\n",
       "      <td>...</td>\n",
       "      <td>...</td>\n",
       "      <td>...</td>\n",
       "      <td>...</td>\n",
       "      <td>...</td>\n",
       "      <td>...</td>\n",
       "      <td>...</td>\n",
       "      <td>...</td>\n",
       "      <td>...</td>\n",
       "    </tr>\n",
       "    <tr>\n",
       "      <th>3482</th>\n",
       "      <td>CANDIDATE</td>\n",
       "      <td>0.218</td>\n",
       "      <td>131.787600</td>\n",
       "      <td>4.736816</td>\n",
       "      <td>4.456</td>\n",
       "      <td>35.3</td>\n",
       "      <td>0.60</td>\n",
       "      <td>395.05</td>\n",
       "      <td>6.9</td>\n",
       "      <td>1</td>\n",
       "      <td>6088</td>\n",
       "    </tr>\n",
       "    <tr>\n",
       "      <th>3483</th>\n",
       "      <td>CANDIDATE</td>\n",
       "      <td>0.075</td>\n",
       "      <td>218.271900</td>\n",
       "      <td>130.235324</td>\n",
       "      <td>4.529</td>\n",
       "      <td>750.1</td>\n",
       "      <td>2.44</td>\n",
       "      <td>2.86</td>\n",
       "      <td>9.7</td>\n",
       "      <td>1</td>\n",
       "      <td>5616</td>\n",
       "    </tr>\n",
       "    <tr>\n",
       "      <th>3484</th>\n",
       "      <td>CANDIDATE</td>\n",
       "      <td>1.206</td>\n",
       "      <td>137.481093</td>\n",
       "      <td>8.870416</td>\n",
       "      <td>4.027</td>\n",
       "      <td>873.1</td>\n",
       "      <td>39.46</td>\n",
       "      <td>414.26</td>\n",
       "      <td>43.8</td>\n",
       "      <td>1</td>\n",
       "      <td>6022</td>\n",
       "    </tr>\n",
       "    <tr>\n",
       "      <th>3485</th>\n",
       "      <td>CANDIDATE</td>\n",
       "      <td>1.230</td>\n",
       "      <td>144.131720</td>\n",
       "      <td>47.109631</td>\n",
       "      <td>3.597</td>\n",
       "      <td>752.2</td>\n",
       "      <td>78.98</td>\n",
       "      <td>75.40</td>\n",
       "      <td>35.1</td>\n",
       "      <td>1</td>\n",
       "      <td>5258</td>\n",
       "    </tr>\n",
       "    <tr>\n",
       "      <th>3486</th>\n",
       "      <td>CANDIDATE</td>\n",
       "      <td>0.043</td>\n",
       "      <td>133.001270</td>\n",
       "      <td>1.739849</td>\n",
       "      <td>4.444</td>\n",
       "      <td>48.5</td>\n",
       "      <td>0.72</td>\n",
       "      <td>1585.81</td>\n",
       "      <td>10.6</td>\n",
       "      <td>1</td>\n",
       "      <td>6119</td>\n",
       "    </tr>\n",
       "  </tbody>\n",
       "</table>\n",
       "<p>10478 rows × 11 columns</p>\n",
       "</div>"
      ],
      "text/plain": [
       "     koi_disposition  koi_impact  koi_time0bk  koi_period  koi_slogg  \\\n",
       "0          CONFIRMED       0.586   162.513840   54.418383      4.467   \n",
       "1     FALSE POSITIVE       0.969   175.850252   19.899140      4.544   \n",
       "2     FALSE POSITIVE       1.276   170.307565    1.736952      4.564   \n",
       "3          CONFIRMED       0.701   171.595550    2.525592      4.438   \n",
       "4          CONFIRMED       0.762   172.979370    4.134435      4.486   \n",
       "...              ...         ...          ...         ...        ...   \n",
       "3482       CANDIDATE       0.218   131.787600    4.736816      4.456   \n",
       "3483       CANDIDATE       0.075   218.271900  130.235324      4.529   \n",
       "3484       CANDIDATE       1.206   137.481093    8.870416      4.027   \n",
       "3485       CANDIDATE       1.230   144.131720   47.109631      3.597   \n",
       "3486       CANDIDATE       0.043   133.001270    1.739849      4.444   \n",
       "\n",
       "      koi_depth  koi_prad  koi_insol  koi_model_snr  koi_tce_plnt_num  \\\n",
       "0         874.8      2.83       9.11           25.8                 2   \n",
       "1       10829.0     14.60      39.30           76.3                 1   \n",
       "2        8079.2     33.46     891.96          505.6                 1   \n",
       "3         603.3      2.75     926.16           40.9                 1   \n",
       "4         686.0      2.77     427.65           40.2                 2   \n",
       "...         ...       ...        ...            ...               ...   \n",
       "3482       35.3      0.60     395.05            6.9                 1   \n",
       "3483      750.1      2.44       2.86            9.7                 1   \n",
       "3484      873.1     39.46     414.26           43.8                 1   \n",
       "3485      752.2     78.98      75.40           35.1                 1   \n",
       "3486       48.5      0.72    1585.81           10.6                 1   \n",
       "\n",
       "      koi_steff  \n",
       "0          5455  \n",
       "1          5853  \n",
       "2          5805  \n",
       "3          6031  \n",
       "4          6046  \n",
       "...         ...  \n",
       "3482       6088  \n",
       "3483       5616  \n",
       "3484       6022  \n",
       "3485       5258  \n",
       "3486       6119  \n",
       "\n",
       "[10478 rows x 11 columns]"
      ]
     },
     "execution_count": 14,
     "metadata": {},
     "output_type": "execute_result"
    }
   ],
   "source": [
    "SF_balanced"
   ]
  },
  {
   "cell_type": "markdown",
   "metadata": {},
   "source": [
    "# Create a Train Test Split\n",
    "\n",
    "Use `koi_disposition` for the y values"
   ]
  },
  {
   "cell_type": "code",
   "execution_count": 15,
   "metadata": {},
   "outputs": [],
   "source": [
    "X = SF_balanced.drop('koi_disposition',axis=1)\n",
    "y = SF_balanced['koi_disposition']"
   ]
  },
  {
   "cell_type": "code",
   "execution_count": 16,
   "metadata": {},
   "outputs": [],
   "source": [
    "from sklearn.model_selection import train_test_split\n",
    "\n",
    "X_train,X_test,y_train,y_test = train_test_split(X, y, random_state=42)\n"
   ]
  },
  {
   "cell_type": "code",
   "execution_count": 17,
   "metadata": {},
   "outputs": [
    {
     "data": {
      "text/html": [
       "<div>\n",
       "<style scoped>\n",
       "    .dataframe tbody tr th:only-of-type {\n",
       "        vertical-align: middle;\n",
       "    }\n",
       "\n",
       "    .dataframe tbody tr th {\n",
       "        vertical-align: top;\n",
       "    }\n",
       "\n",
       "    .dataframe thead th {\n",
       "        text-align: right;\n",
       "    }\n",
       "</style>\n",
       "<table border=\"1\" class=\"dataframe\">\n",
       "  <thead>\n",
       "    <tr style=\"text-align: right;\">\n",
       "      <th></th>\n",
       "      <th>koi_impact</th>\n",
       "      <th>koi_time0bk</th>\n",
       "      <th>koi_period</th>\n",
       "      <th>koi_slogg</th>\n",
       "      <th>koi_depth</th>\n",
       "      <th>koi_prad</th>\n",
       "      <th>koi_insol</th>\n",
       "      <th>koi_model_snr</th>\n",
       "      <th>koi_tce_plnt_num</th>\n",
       "      <th>koi_steff</th>\n",
       "    </tr>\n",
       "  </thead>\n",
       "  <tbody>\n",
       "    <tr>\n",
       "      <th>5577</th>\n",
       "      <td>0.399</td>\n",
       "      <td>134.052302</td>\n",
       "      <td>6.882686</td>\n",
       "      <td>4.483</td>\n",
       "      <td>373660.0</td>\n",
       "      <td>60.49</td>\n",
       "      <td>169.85</td>\n",
       "      <td>2842.2</td>\n",
       "      <td>1</td>\n",
       "      <td>5704</td>\n",
       "    </tr>\n",
       "    <tr>\n",
       "      <th>2907</th>\n",
       "      <td>0.365</td>\n",
       "      <td>132.260680</td>\n",
       "      <td>4.563837</td>\n",
       "      <td>4.496</td>\n",
       "      <td>201.8</td>\n",
       "      <td>1.22</td>\n",
       "      <td>218.18</td>\n",
       "      <td>9.9</td>\n",
       "      <td>1</td>\n",
       "      <td>5408</td>\n",
       "    </tr>\n",
       "    <tr>\n",
       "      <th>258</th>\n",
       "      <td>0.164</td>\n",
       "      <td>146.152850</td>\n",
       "      <td>16.568068</td>\n",
       "      <td>4.602</td>\n",
       "      <td>1331.4</td>\n",
       "      <td>2.54</td>\n",
       "      <td>21.27</td>\n",
       "      <td>41.9</td>\n",
       "      <td>1</td>\n",
       "      <td>4987</td>\n",
       "    </tr>\n",
       "    <tr>\n",
       "      <th>3881</th>\n",
       "      <td>0.020</td>\n",
       "      <td>157.754400</td>\n",
       "      <td>43.849647</td>\n",
       "      <td>2.644</td>\n",
       "      <td>452.3</td>\n",
       "      <td>21.42</td>\n",
       "      <td>645.68</td>\n",
       "      <td>8.3</td>\n",
       "      <td>1</td>\n",
       "      <td>4893</td>\n",
       "    </tr>\n",
       "    <tr>\n",
       "      <th>3397</th>\n",
       "      <td>0.174</td>\n",
       "      <td>143.159880</td>\n",
       "      <td>11.912567</td>\n",
       "      <td>3.893</td>\n",
       "      <td>123.1</td>\n",
       "      <td>2.61</td>\n",
       "      <td>562.27</td>\n",
       "      <td>27.8</td>\n",
       "      <td>1</td>\n",
       "      <td>6337</td>\n",
       "    </tr>\n",
       "  </tbody>\n",
       "</table>\n",
       "</div>"
      ],
      "text/plain": [
       "      koi_impact  koi_time0bk  koi_period  koi_slogg  koi_depth  koi_prad  \\\n",
       "5577       0.399   134.052302    6.882686      4.483   373660.0     60.49   \n",
       "2907       0.365   132.260680    4.563837      4.496      201.8      1.22   \n",
       "258        0.164   146.152850   16.568068      4.602     1331.4      2.54   \n",
       "3881       0.020   157.754400   43.849647      2.644      452.3     21.42   \n",
       "3397       0.174   143.159880   11.912567      3.893      123.1      2.61   \n",
       "\n",
       "      koi_insol  koi_model_snr  koi_tce_plnt_num  koi_steff  \n",
       "5577     169.85         2842.2                 1       5704  \n",
       "2907     218.18            9.9                 1       5408  \n",
       "258       21.27           41.9                 1       4987  \n",
       "3881     645.68            8.3                 1       4893  \n",
       "3397     562.27           27.8                 1       6337  "
      ]
     },
     "execution_count": 17,
     "metadata": {},
     "output_type": "execute_result"
    }
   ],
   "source": [
    "X_train.head()"
   ]
  },
  {
   "cell_type": "markdown",
   "metadata": {},
   "source": [
    "# Pre-processing\n",
    "\n",
    "Scale the data using the MinMaxScaler and perform some feature selection"
   ]
  },
  {
   "cell_type": "code",
   "execution_count": 52,
   "metadata": {},
   "outputs": [],
   "source": [
    "# import MinMaxScaler to scale data\n",
    "from sklearn.preprocessing import MinMaxScaler\n",
    "# Scale your data\n",
    "X_scaler = MinMaxScaler().fit(X_train)\n",
    "X_train_scaled = X_scaler.transform(X_train)\n",
    "X_test_scaled = X_scaler.transform(X_test)"
   ]
  },
  {
   "cell_type": "markdown",
   "metadata": {},
   "source": [
    "# Train the Model\n",
    "\n"
   ]
  },
  {
   "cell_type": "code",
   "execution_count": 20,
   "metadata": {},
   "outputs": [
    {
     "data": {
      "text/plain": [
       "LogisticRegression(C=1.0, class_weight=None, dual=False, fit_intercept=True,\n",
       "                   intercept_scaling=1, l1_ratio=None, max_iter=100,\n",
       "                   multi_class='auto', n_jobs=None, penalty='l2',\n",
       "                   random_state=None, solver='lbfgs', tol=0.0001, verbose=0,\n",
       "                   warm_start=False)"
      ]
     },
     "execution_count": 20,
     "metadata": {},
     "output_type": "execute_result"
    }
   ],
   "source": [
    "from sklearn.linear_model import LogisticRegression\n",
    "classifier = LogisticRegression()\n",
    "classifier"
   ]
  },
  {
   "cell_type": "code",
   "execution_count": 21,
   "metadata": {},
   "outputs": [
    {
     "name": "stderr",
     "output_type": "stream",
     "text": [
      "C:\\Users\\Owner\\Anaconda3\\envs\\PythonData\\lib\\site-packages\\sklearn\\linear_model\\_logistic.py:940: ConvergenceWarning: lbfgs failed to converge (status=1):\n",
      "STOP: TOTAL NO. of ITERATIONS REACHED LIMIT.\n",
      "\n",
      "Increase the number of iterations (max_iter) or scale the data as shown in:\n",
      "    https://scikit-learn.org/stable/modules/preprocessing.html\n",
      "Please also refer to the documentation for alternative solver options:\n",
      "    https://scikit-learn.org/stable/modules/linear_model.html#logistic-regression\n",
      "  extra_warning_msg=_LOGISTIC_SOLVER_CONVERGENCE_MSG)\n"
     ]
    },
    {
     "data": {
      "text/plain": [
       "LogisticRegression(C=1.0, class_weight=None, dual=False, fit_intercept=True,\n",
       "                   intercept_scaling=1, l1_ratio=None, max_iter=100,\n",
       "                   multi_class='auto', n_jobs=None, penalty='l2',\n",
       "                   random_state=None, solver='lbfgs', tol=0.0001, verbose=0,\n",
       "                   warm_start=False)"
      ]
     },
     "execution_count": 21,
     "metadata": {},
     "output_type": "execute_result"
    }
   ],
   "source": [
    "classifier.fit(X_train,y_train)\n"
   ]
  },
  {
   "cell_type": "code",
   "execution_count": 23,
   "metadata": {},
   "outputs": [
    {
     "name": "stdout",
     "output_type": "stream",
     "text": [
      "Training Data Score: 0.35059811656910156\n",
      "Testing Data Score: 0.3767175572519084\n"
     ]
    }
   ],
   "source": [
    "print(f\"Training Data Score: {classifier.score(X_train_scaled, y_train)}\")\n",
    "print(f\"Testing Data Score: {classifier.score(X_test_scaled, y_test)}\")"
   ]
  },
  {
   "cell_type": "code",
   "execution_count": 25,
   "metadata": {},
   "outputs": [
    {
     "name": "stdout",
     "output_type": "stream",
     "text": [
      "First 10 Predictions:   ['FALSE POSITIVE' 'CONFIRMED' 'CONFIRMED' 'CONFIRMED' 'CONFIRMED'\n",
      " 'FALSE POSITIVE' 'CONFIRMED' 'CANDIDATE' 'CANDIDATE' 'FALSE POSITIVE']\n",
      "First 10 Actual labels: ['FALSE POSITIVE', 'CANDIDATE', 'CANDIDATE', 'CANDIDATE', 'CONFIRMED', 'FALSE POSITIVE', 'FALSE POSITIVE', 'CANDIDATE', 'FALSE POSITIVE', 'CANDIDATE']\n"
     ]
    }
   ],
   "source": [
    "predictions = classifier.predict(X_test)\n",
    "\n",
    "print(f\"First 10 Predictions:   {predictions[:10]}\")\n",
    "print(f\"First 10 Actual labels: {y_test[:10].tolist()}\")"
   ]
  },
  {
   "cell_type": "code",
   "execution_count": 26,
   "metadata": {},
   "outputs": [],
   "source": [
    "model1 = pd.DataFrame({\"Prediction\": predictions, \"Actual\": y_test}).reset_index(drop=True)\n"
   ]
  },
  {
   "cell_type": "markdown",
   "metadata": {},
   "source": [
    "Decision Tree\n"
   ]
  },
  {
   "cell_type": "code",
   "execution_count": 28,
   "metadata": {},
   "outputs": [
    {
     "name": "stdout",
     "output_type": "stream",
     "text": [
      "Train score: 0.7705523033850853\n",
      "Test score: 0.7194656488549618\n"
     ]
    }
   ],
   "source": [
    "from sklearn import tree\n",
    "\n",
    "clf = tree.DecisionTreeClassifier(max_depth=8)\n",
    "clf = clf.fit(X_train_scaled, y_train)\n",
    "print('Train score: {}'.format(clf.score(X_train_scaled, y_train)))\n",
    "print('Test score: {}'.format(clf.score(X_test_scaled, y_test)))"
   ]
  },
  {
   "cell_type": "markdown",
   "metadata": {},
   "source": [
    "K Nearest Neighbors"
   ]
  },
  {
   "cell_type": "code",
   "execution_count": 35,
   "metadata": {},
   "outputs": [
    {
     "name": "stdout",
     "output_type": "stream",
     "text": [
      "k: 5, Train/Test Score: 0.740/0.621\n",
      "k: 7, Train/Test Score: 0.709/0.595\n",
      "k: 9, Train/Test Score: 0.688/0.602\n",
      "k: 11, Train/Test Score: 0.670/0.603\n",
      "k: 13, Train/Test Score: 0.659/0.590\n",
      "k: 15, Train/Test Score: 0.648/0.588\n",
      "k: 17, Train/Test Score: 0.649/0.583\n",
      "k: 19, Train/Test Score: 0.648/0.584\n"
     ]
    },
    {
     "data": {
      "image/png": "[encoded data removed]",
      "text/plain": [
       "<Figure size 432x288 with 1 Axes>"
      ]
     },
     "metadata": {
      "needs_background": "light"
     },
     "output_type": "display_data"
    }
   ],
   "source": [
    "from sklearn.neighbors import KNeighborsClassifier \n",
    "\n",
    "train_scores = []\n",
    "test_scores = []\n",
    "for k in range(1, 20, 2):\n",
    "    knn = KNeighborsClassifier(n_neighbors=k)\n",
    "    knn.fit(X_train_scaled, y_train)\n",
    "    train_score = knn.score(X_train_scaled, y_train)\n",
    "    test_score = knn.score(X_test_scaled, y_test)\n",
    "    train_scores.append(train_score)\n",
    "    test_scores.append(test_score)\n",
    "    print(f\"k: {k}, Train/Test Score: {train_score:.3f}/{test_score:.3f}\")\n",
    "    \n",
    "    \n",
    "plt.plot(range(1, 20, 2), train_scores, marker='o')\n",
    "plt.plot(range(1, 20, 2), test_scores, marker=\"x\")\n",
    "plt.xlabel(\"k neighbors\")\n",
    "plt.ylabel(\"Testing accuracy Score\")\n",
    "plt.show() "
   ]
  },
  {
   "cell_type": "code",
   "execution_count": 36,
   "metadata": {},
   "outputs": [
    {
     "name": "stdout",
     "output_type": "stream",
     "text": [
      "k=9 Test Acc: 0.602\n"
     ]
    }
   ],
   "source": [
    "knn = KNeighborsClassifier(n_neighbors=9)\n",
    "knn.fit(X_train_scaled, y_train)\n",
    "print('k=9 Test Acc: %.3f' % knn.score(X_test_scaled, y_test))"
   ]
  },
  {
   "cell_type": "markdown",
   "metadata": {},
   "source": [
    "Random Forest\n"
   ]
  },
  {
   "cell_type": "code",
   "execution_count": 42,
   "metadata": {},
   "outputs": [
    {
     "data": {
      "text/plain": [
       "0.8603053435114504"
      ]
     },
     "execution_count": 42,
     "metadata": {},
     "output_type": "execute_result"
    }
   ],
   "source": [
    "from sklearn.ensemble import RandomForestClassifier\n",
    "\n",
    "rf = RandomForestClassifier(n_estimators=45)\n",
    "rf = rf.fit(X_train_scaled, y_train)\n",
    "rf.score(X_test_scaled, y_test)"
   ]
  },
  {
   "cell_type": "code",
   "execution_count": 43,
   "metadata": {},
   "outputs": [
    {
     "data": {
      "text/plain": [
       "[(0.1985516936420337, 'koi_model_snr'),\n",
       " (0.14090916776030724, 'koi_prad'),\n",
       " (0.11633200384638094, 'koi_depth'),\n",
       " (0.1155551392973951, 'koi_period'),\n",
       " (0.11229380148501873, 'koi_impact'),\n",
       " (0.08574116502677703, 'koi_time0bk'),\n",
       " (0.07384022909869944, 'koi_insol'),\n",
       " (0.06923108669084609, 'koi_slogg'),\n",
       " (0.06874327075301784, 'koi_steff'),\n",
       " (0.018802442399524017, 'koi_tce_plnt_num')]"
      ]
     },
     "execution_count": 43,
     "metadata": {},
     "output_type": "execute_result"
    }
   ],
   "source": [
    "sorted(zip(rf.feature_importances_, X), reverse=True)\n"
   ]
  },
  {
   "cell_type": "code",
   "execution_count": 44,
   "metadata": {},
   "outputs": [
    {
     "name": "stdout",
     "output_type": "stream",
     "text": [
      "Training Data Score: 0.9994909646220412\n",
      "Testing Data Score: 0.8603053435114504\n"
     ]
    }
   ],
   "source": [
    "# Best Model Score\n",
    "print(f\"Training Data Score: {rf.score(X_train_scaled, y_train)}\")\n",
    "print(f\"Testing Data Score: {rf.score(X_test_scaled, y_test)}\")"
   ]
  },
  {
   "cell_type": "markdown",
   "metadata": {},
   "source": [
    "# Hyperparameter Tuning\n",
    "\n",
    "Use `GridSearchCV` to tune the model's parameters"
   ]
  },
  {
   "cell_type": "code",
   "execution_count": 59,
   "metadata": {},
   "outputs": [],
   "source": [
    "# Create the GridSearchCV model\n",
    "from sklearn.model_selection import GridSearchCV\n",
    "\n",
    "param_grid = {'n_estimators':[100,200,300,400,500],\n",
    "             'min_samples_leaf':[1,2,3,4]}\n"
   ]
  },
  {
   "cell_type": "code",
   "execution_count": 60,
   "metadata": {},
   "outputs": [],
   "source": [
    "# Train the model with GridSearch\n",
    "grid = GridSearchCV(RandomForestClassifier(),param_grid,verbose=3)\n"
   ]
  },
  {
   "cell_type": "code",
   "execution_count": null,
   "metadata": {},
   "outputs": [
    {
     "name": "stdout",
     "output_type": "stream",
     "text": [
      "Fitting 5 folds for each of 20 candidates, totalling 100 fits\n",
      "[CV] min_samples_leaf=1, n_estimators=100 ............................\n"
     ]
    },
    {
     "name": "stderr",
     "output_type": "stream",
     "text": [
      "[Parallel(n_jobs=1)]: Using backend SequentialBackend with 1 concurrent workers.\n"
     ]
    },
    {
     "name": "stdout",
     "output_type": "stream",
     "text": [
      "[CV]  min_samples_leaf=1, n_estimators=100, score=0.842, total=   1.9s\n",
      "[CV] min_samples_leaf=1, n_estimators=100 ............................\n"
     ]
    },
    {
     "name": "stderr",
     "output_type": "stream",
     "text": [
      "[Parallel(n_jobs=1)]: Done   1 out of   1 | elapsed:    1.8s remaining:    0.0s\n"
     ]
    },
    {
     "name": "stdout",
     "output_type": "stream",
     "text": [
      "[CV]  min_samples_leaf=1, n_estimators=100, score=0.859, total=   1.9s\n",
      "[CV] min_samples_leaf=1, n_estimators=100 ............................\n"
     ]
    },
    {
     "name": "stderr",
     "output_type": "stream",
     "text": [
      "[Parallel(n_jobs=1)]: Done   2 out of   2 | elapsed:    3.7s remaining:    0.0s\n"
     ]
    },
    {
     "name": "stdout",
     "output_type": "stream",
     "text": [
      "[CV]  min_samples_leaf=1, n_estimators=100, score=0.842, total=   1.9s\n",
      "[CV] min_samples_leaf=1, n_estimators=100 ............................\n",
      "[CV]  min_samples_leaf=1, n_estimators=100, score=0.828, total=   1.8s\n",
      "[CV] min_samples_leaf=1, n_estimators=100 ............................\n",
      "[CV]  min_samples_leaf=1, n_estimators=100, score=0.852, total=   2.2s\n",
      "[CV] min_samples_leaf=1, n_estimators=200 ............................\n",
      "[CV]  min_samples_leaf=1, n_estimators=200, score=0.836, total=   4.2s\n",
      "[CV] min_samples_leaf=1, n_estimators=200 ............................\n",
      "[CV]  min_samples_leaf=1, n_estimators=200, score=0.856, total=   3.9s\n",
      "[CV] min_samples_leaf=1, n_estimators=200 ............................\n",
      "[CV]  min_samples_leaf=1, n_estimators=200, score=0.845, total=   3.9s\n",
      "[CV] min_samples_leaf=1, n_estimators=200 ............................\n",
      "[CV]  min_samples_leaf=1, n_estimators=200, score=0.829, total=   3.8s\n",
      "[CV] min_samples_leaf=1, n_estimators=200 ............................\n",
      "[CV]  min_samples_leaf=1, n_estimators=200, score=0.853, total=   3.6s\n",
      "[CV] min_samples_leaf=1, n_estimators=300 ............................\n",
      "[CV]  min_samples_leaf=1, n_estimators=300, score=0.839, total=   5.4s\n",
      "[CV] min_samples_leaf=1, n_estimators=300 ............................\n",
      "[CV]  min_samples_leaf=1, n_estimators=300, score=0.863, total=   5.3s\n",
      "[CV] min_samples_leaf=1, n_estimators=300 ............................\n",
      "[CV]  min_samples_leaf=1, n_estimators=300, score=0.842, total=   5.4s\n",
      "[CV] min_samples_leaf=1, n_estimators=300 ............................\n",
      "[CV]  min_samples_leaf=1, n_estimators=300, score=0.830, total=   5.4s\n",
      "[CV] min_samples_leaf=1, n_estimators=300 ............................\n",
      "[CV]  min_samples_leaf=1, n_estimators=300, score=0.856, total=   5.3s\n",
      "[CV] min_samples_leaf=1, n_estimators=400 ............................\n",
      "[CV]  min_samples_leaf=1, n_estimators=400, score=0.839, total=   7.1s\n",
      "[CV] min_samples_leaf=1, n_estimators=400 ............................\n",
      "[CV]  min_samples_leaf=1, n_estimators=400, score=0.862, total=   7.1s\n",
      "[CV] min_samples_leaf=1, n_estimators=400 ............................\n",
      "[CV]  min_samples_leaf=1, n_estimators=400, score=0.840, total=   7.4s\n",
      "[CV] min_samples_leaf=1, n_estimators=400 ............................\n",
      "[CV]  min_samples_leaf=1, n_estimators=400, score=0.831, total=   7.9s\n",
      "[CV] min_samples_leaf=1, n_estimators=400 ............................\n",
      "[CV]  min_samples_leaf=1, n_estimators=400, score=0.856, total=   7.1s\n",
      "[CV] min_samples_leaf=1, n_estimators=500 ............................\n",
      "[CV]  min_samples_leaf=1, n_estimators=500, score=0.844, total=  10.0s\n",
      "[CV] min_samples_leaf=1, n_estimators=500 ............................\n",
      "[CV]  min_samples_leaf=1, n_estimators=500, score=0.861, total=   9.6s\n",
      "[CV] min_samples_leaf=1, n_estimators=500 ............................\n",
      "[CV]  min_samples_leaf=1, n_estimators=500, score=0.842, total=   9.6s\n",
      "[CV] min_samples_leaf=1, n_estimators=500 ............................\n"
     ]
    }
   ],
   "source": [
    "grid.fit(X_train_scaled,y_train)"
   ]
  },
  {
   "cell_type": "code",
   "execution_count": null,
   "metadata": {},
   "outputs": [],
   "source": [
    "print(grid2.best_params_)\n",
    "print(grid2.best_score_)"
   ]
  },
  {
   "cell_type": "markdown",
   "metadata": {},
   "source": [
    "# Save the Model"
   ]
  },
  {
   "cell_type": "code",
   "execution_count": null,
   "metadata": {},
   "outputs": [],
   "source": [
    "# save your model by updating \"your_name\" with your name\n",
    "# and \"your_model\" with your model variable\n",
    "# be sure to turn this in to BCS\n",
    "# if joblib fails to import, try running the command to install in terminal/git-bash\n",
    "import joblib\n",
    "filename = 'your_name.sav'\n",
    "joblib.dump(your_model, filename)"
   ]
  }
 ],
 "metadata": {
  "kernel_info": {
   "name": "dev"
  },
  "kernelspec": {
   "display_name": "Python 3",
   "language": "python",
   "name": "python3"
  },
  "language_info": {
   "codemirror_mode": {
    "name": "ipython",
    "version": 3
   },
   "file_extension": ".py",
   "mimetype": "text/x-python",
   "name": "python",
   "nbconvert_exporter": "python",
   "pygments_lexer": "ipython3",
   "version": "3.6.10"
  },
  "nteract": {
   "version": "0.12.3"
  }
 },
 "nbformat": 4,
 "nbformat_minor": 2
}
